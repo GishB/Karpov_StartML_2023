{
 "cells": [
  {
   "cell_type": "markdown",
   "id": "bbff98d4",
   "metadata": {},
   "source": [
    "# Import libraries"
   ]
  },
  {
   "cell_type": "code",
   "execution_count": 1,
   "id": "95b67d29",
   "metadata": {},
   "outputs": [],
   "source": [
    "class Triangle:\n",
    "    def __init__(self, a, b ,c):\n",
    "        self.a = a\n",
    "        self.b = b\n",
    "        self.c = c\n",
    "        self.n_dots = 3\n",
    "        self.p = 0.5*(a+b+c)\n",
    "\n",
    "        if not(a < b +c) or not(b < a + c) or not (c < a +b):\n",
    "             raise ValueError(f\"triangle inequality does not hold\")\n",
    "\n",
    "    def area(self):\n",
    "        return (self.p*(self.p - self.a)*(self.p - self.b)*(self.p - self.c))**0.5"
   ]
  },
  {
   "cell_type": "code",
   "execution_count": 2,
   "id": "15b23b57",
   "metadata": {},
   "outputs": [],
   "source": [
    "class Rectangle(Triangle):\n",
    "    n_dots: int = 4\n",
    "            \n",
    "    def __init__(self, a, b):\n",
    "        self.a = a\n",
    "        self.b = b\n",
    "\n",
    "    def area(self):\n",
    "        return self.a * self.b\n"
   ]
  },
  {
   "cell_type": "code",
   "execution_count": 3,
   "id": "c78038d8",
   "metadata": {},
   "outputs": [],
   "source": [
    "test = Rectangle(1,2)"
   ]
  },
  {
   "cell_type": "code",
   "execution_count": 13,
   "id": "58e94c91",
   "metadata": {},
   "outputs": [],
   "source": [
    "from dataclasses import dataclass"
   ]
  },
  {
   "cell_type": "code",
   "execution_count": 28,
   "id": "e3720153",
   "metadata": {},
   "outputs": [],
   "source": [
    "class BaseFigure:\n",
    "    n_dots: int = None\n",
    "\n",
    "    def __init__(self):\n",
    "        self.validate()\n",
    "\n",
    "    def area(self):\n",
    "        raise NotImplementedError()\n",
    "\n",
    "    def validate(self):\n",
    "        raise NotImplementedError()"
   ]
  },
  {
   "cell_type": "code",
   "execution_count": 48,
   "id": "107bd9bd",
   "metadata": {},
   "outputs": [],
   "source": [
    "# BaseFigure()"
   ]
  },
  {
   "cell_type": "code",
   "execution_count": 30,
   "id": "7b12e20e",
   "metadata": {},
   "outputs": [],
   "source": [
    "class Rectangle(BaseFigure):\n",
    "    n_dots: int = 4\n",
    "            \n",
    "    def __init__(self, a, b):\n",
    "        self.a = a\n",
    "        self.b = b\n",
    "\n",
    "    def area(self):\n",
    "        return self.a * self.b\n",
    "    \n",
    "    def validate(self):\n",
    "        return self.a, self.b\n",
    "\n",
    "class Triangle(BaseFigure):\n",
    "    n_dots: int = 3\n",
    "    \n",
    "    def __init__(self, a, b ,c):\n",
    "        self.a = a\n",
    "        self.b = b\n",
    "        self.c = c\n",
    "        self.p = 0.5*(a+b+c)\n",
    "\n",
    "    def area(self):\n",
    "        return (self.p*(self.p - self.a)*(self.p - self.b)*(self.p - self.c))**0.5\n",
    "    \n",
    "    def validate(self):\n",
    "        if not(self.a < self.b + self.c) or not(self.b < self.a + self.c) or not (self.c < self.a + self.b):\n",
    "             raise ValueError(f\"triangle inequality does not hold\")"
   ]
  },
  {
   "cell_type": "code",
   "execution_count": 31,
   "id": "6219b23b",
   "metadata": {},
   "outputs": [],
   "source": [
    "n_dots: float('inf')"
   ]
  },
  {
   "cell_type": "code",
   "execution_count": 32,
   "id": "bc94d8f1",
   "metadata": {},
   "outputs": [],
   "source": [
    "n_dots = float('inf')"
   ]
  },
  {
   "cell_type": "markdown",
   "id": "80caf6e0",
   "metadata": {},
   "source": [
    "Разным классам в приложении потребуется разная функциональность: кому-то потребуется проверять, есть ли в headers ключ \"Accept\", кому-то потребуется читать body, а кому-то понадобится проверять пустоту cookies. Будут и классы, которым потребуется несколько возможностей сразу.\n",
    "\n",
    "Напишите классы ParsesCookies, ParsesBody, ParsesHeaders по условиям:\n",
    "\n",
    "    Класс ParsesCookies имеет метод cookies(), возвращающий все по ключу cookies из словаря self.request.\n",
    "    Класс ParsesCookies имеет метод is_authed(), который будет проверять, что в словаре cookies будет ключ auth_key (ни в коем случае не используйте такую авторизацию в реальных проектах).\n",
    "    Класс ParsesBody имеет метод body(), возвращающий текст по ключу body в self.request.\n",
    "    Класс ParsesHeaders имеет метод headers(), возвращающий все по ключу headers из словаря self.request.\n",
    "    Класс ParsesHeaders имеет метод need_json(), который возвращает True, если в headers по ключу \"content-type\" лежит значение \"application/json\", иначе False."
   ]
  },
  {
   "cell_type": "raw",
   "id": "10c2a823",
   "metadata": {},
   "source": [
    "request = {\n",
    "  \"cookies\": {key_1: value_1, key_2: value_2, ...},\n",
    "  \"body\": \"a long time ago, in a Galaxy far, far away\",\n",
    "  \"headers\": {\"content-type\": \"application/json\", \"Accept\": \"application/json\"}\n",
    "}"
   ]
  },
  {
   "cell_type": "code",
   "execution_count": 47,
   "id": "89ba4590",
   "metadata": {},
   "outputs": [],
   "source": [
    "request = {\n",
    "  \"cookies\": {'key_1': 33, \"key_2\": 404},\n",
    "  \"body\": \"a long time ago, in a Galaxy far, far away\",\n",
    "  \"headers\": {\"content-type\": \"application/json\", \"Accept\": \"application/json\"}\n",
    "}"
   ]
  },
  {
   "cell_type": "code",
   "execution_count": 40,
   "id": "add69c24",
   "metadata": {},
   "outputs": [],
   "source": [
    "class ParsesCookies:\n",
    "    def __init__(self, dictionary):\n",
    "        self.dictionary = dictionary\n",
    "        \n",
    "    def cookies(self):\n",
    "        return self.dictionary.get(\"cookies\")\n",
    "    \n",
    "    def is_authed(self):\n",
    "        return \"auth_K\" in list(self.cookies.keys())\n",
    "        \n",
    "        \n",
    "class ParsesBody:\n",
    "    def __init__(self, dictionary):\n",
    "        self.dictionary = dictionary\n",
    "        \n",
    "    def body(self):\n",
    "        return self.dictionary.get(\"body\")\n",
    "    \n",
    "class ParsesHeaders:\n",
    "    def __init__(self, dictionary):\n",
    "        self.dictionary = dictionary\n",
    "        \n",
    "    def headers(self):\n",
    "        return self.dictionary.get(\"headers\")\n",
    "    \n",
    "    def need_json(self):\n",
    "        return True if self.headers()[\"content-type\"] == \"application/json\" else False"
   ]
  }
 ],
 "metadata": {
  "kernelspec": {
   "display_name": "Python 3 (ipykernel)",
   "language": "python",
   "name": "python3"
  },
  "language_info": {
   "codemirror_mode": {
    "name": "ipython",
    "version": 3
   },
   "file_extension": ".py",
   "mimetype": "text/x-python",
   "name": "python",
   "nbconvert_exporter": "python",
   "pygments_lexer": "ipython3",
   "version": "3.10.6"
  }
 },
 "nbformat": 4,
 "nbformat_minor": 5
}
